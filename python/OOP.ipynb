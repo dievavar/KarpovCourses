{
 "cells": [
  {
   "cell_type": "markdown",
   "id": "c472084d-45cc-4195-87a2-4db22bf75814",
   "metadata": {},
   "source": [
    "\n",
    "Напишите класс Triangle, который будет иметь 3 поля: a, b, c (стороны треугольника) и n_dots = 3 (количество точек). Поле n_dots объявите на уровне класса, не в конструкторе — чтобы оно было доступно без создания объекта (т.е. работал вызов Triangle.n_dots). Добавьте в класс простой конструктор, принимающий на вход все три стороны и сохраняющий эти стороны в соответсвующие поля класса.\n",
    "\n",
    "Создайте объекты этого класса со следующими названиями: tr_1, tr_2 и любыми значениями длин сторон."
   ]
  },
  {
   "cell_type": "code",
   "execution_count": 4,
   "id": "8c349926-7cb0-426d-b405-761338c99a25",
   "metadata": {},
   "outputs": [],
   "source": [
    "class Triangle:\n",
    "    n_dots = 3 \n",
    "    def __init__(self, a, b, c):\n",
    "        self.a, self.b, self.c = a, b, c"
   ]
  },
  {
   "cell_type": "code",
   "execution_count": 5,
   "id": "ed3022cc-f9ee-46d3-b7e3-d5115bbf6e9b",
   "metadata": {},
   "outputs": [],
   "source": [
    "tr_1 = Triangle(2, 3, 4)\n",
    "tr_2 = Triangle(5, 7, 1)"
   ]
  },
  {
   "cell_type": "markdown",
   "id": "bdcee100-522b-4d1d-bc1b-734429756c9a",
   "metadata": {},
   "source": [
    "> Усложняем треугольник\n",
    "\n",
    "Возьмите класс Triangle из предыдущего задания и добавьте метод area(), возвращающий площадь треугольника. Напомним, что при известных трех сторонах площадь треугольника можно подсчитать по формуле Герона: S= \n",
    "p(p−a)(p−b)(p−c)\n",
    "​\t\n",
    " , где p= \n",
    "2\n",
    "1\n",
    "​\t\n",
    " (a+b+c) — полупериметр. Подумайте, как можно организовать код так, чтобы p считалась один раз.\n",
    "\n",
    "Затем поменяйте конструктор: он должен проверять, что выполнено неравенство треугольника - каждая сторона меньше  суммы двух других. Если это условие не выполнено, выбрасывайте ValueError с текстом \"triangle inequality does not hold\" (передайте эту строку в конструктор ValueError).\n",
    "\n",
    "Наконец, создайте два объекта данного класса с названиями tr_1 и tr_2 , в которых соблюдается неравенство треугольника. Также, сохраните в переменные square_1 и square_2 результаты вызовов методов .area() для объектов tr_1 и tr_2 соответственно.\n",
    "\n"
   ]
  },
  {
   "cell_type": "code",
   "execution_count": 25,
   "id": "ef33cf1d-b7c4-4486-9c06-8278eceb222e",
   "metadata": {},
   "outputs": [],
   "source": [
    "class Triangle:\n",
    "    n_dots = 3 \n",
    "    def __init__(self, a, b, c):\n",
    "        self.p = (a + b + c)/2\n",
    "        if a+b>c and a+c>b and b+c>a:\n",
    "            self.a, self.b, self.c = a, b, c\n",
    "        else:\n",
    "            raise ValueError(\"triangle inequality does not hold\")\n",
    "    \n",
    "\n",
    "    def area(self):\n",
    "        return (self.p*(self.p-self.a)*(self.p-self.b)*(self.p-self.c))**0.5"
   ]
  },
  {
   "cell_type": "code",
   "execution_count": 26,
   "id": "a6792177-8519-40dd-bcf6-d9239a5b5026",
   "metadata": {},
   "outputs": [],
   "source": [
    "tr_1 = Triangle(21, 11, 11)"
   ]
  },
  {
   "cell_type": "code",
   "execution_count": 27,
   "id": "55b811cc-e8dc-4f40-a9fa-1c0f29564f33",
   "metadata": {},
   "outputs": [
    {
     "data": {
      "text/plain": [
       "34.4265522525855"
      ]
     },
     "execution_count": 27,
     "metadata": {},
     "output_type": "execute_result"
    }
   ],
   "source": [
    "tr_1.area()"
   ]
  },
  {
   "cell_type": "code",
   "execution_count": 28,
   "id": "b734a35b-776d-4b43-857c-10c27022eb4c",
   "metadata": {},
   "outputs": [],
   "source": [
    "tr_2 = Triangle(5, 3, 4)"
   ]
  },
  {
   "cell_type": "code",
   "execution_count": 29,
   "id": "2f39a380-f909-4209-b12c-690a0de86477",
   "metadata": {},
   "outputs": [
    {
     "data": {
      "text/plain": [
       "6.0"
      ]
     },
     "execution_count": 29,
     "metadata": {},
     "output_type": "execute_result"
    }
   ],
   "source": [
    "tr_2.area()"
   ]
  },
  {
   "cell_type": "markdown",
   "id": "b10d0dad-0d47-4964-a57b-a68b74ecdbc1",
   "metadata": {},
   "source": [
    "> Простое наследование\n",
    "\n",
    "Создайте класс Rectangle (прямоугольник), который будет наследоваться от класса Triangle. Сделайте так, чтобы area(), конструктор и поле n_dots были верными. А именно:\n",
    "\n",
    "Конструктор должен принимать 2 стороны: a, b\n",
    "area() должен считать площадь как произведение смежных сторон: S=ab\n",
    "Неравенство треугольника не нужно проверять.\n",
    "n_dots должен быть объявлен на уровне класса и равняться 4."
   ]
  },
  {
   "cell_type": "code",
   "execution_count": 30,
   "id": "8a5aa423-c45b-435b-a112-438b64900a36",
   "metadata": {},
   "outputs": [],
   "source": [
    "class Rectangle(Triangle):\n",
    "    n_dots = 4\n",
    "    def __init__(self, a, b):\n",
    "        self.a, self.b = a, b\n",
    "\n",
    "    def area(self):\n",
    "        return self.a * self.b\n",
    "    "
   ]
  },
  {
   "cell_type": "code",
   "execution_count": 33,
   "id": "a9c676e8-2173-4375-846b-02e21521562b",
   "metadata": {},
   "outputs": [
    {
     "data": {
      "text/plain": [
       "12"
      ]
     },
     "execution_count": 33,
     "metadata": {},
     "output_type": "execute_result"
    }
   ],
   "source": [
    "rct1 = Rectangle(3, 4)\n",
    "rct1.area()"
   ]
  },
  {
   "cell_type": "markdown",
   "id": "7bdbbb98-fdd0-479a-9660-d39a1346f35b",
   "metadata": {},
   "source": [
    "> Наследование: абстрактный класс (1/4)\n",
    " \n",
    "Вы, наверно, заметили, что при наследовании в прошлом задании мы переписали почти всю логику. Это плохо: при наследовании нужно расширять класс, а не переписывать его.\n",
    "\n",
    "Но все же хочется использовать наследование, ведь треугольники и прямоугольники имеют общие свойства: \n",
    "\n",
    "Оба характеризуются количеством точек n_dots.\n",
    "Оба имеют метод area().\n",
    "Оба имеют проверки на валидность данных. В случае прямоугольника это было равенство противоположных сторон, которое мы пропустили благодаря трюку: вместо принятия четырех сторон a, b, c, d на вход мы принимали две и далее держали в уме a=c, b=d. В случае треугольника это было неравенство треугольника.\n",
    "Тут нам поможет создание некой \"базовой фигуры\". Это будет сборник общих свойств, который сам по себе не будет представлять никакую фигуру, но послужит хорошим плацдармом для следующих классов.\n",
    "\n",
    "Напишите класс BaseFigure, который имеет поле класса (т.е. на уровне класса) n_dots = None, метод area() \"без реализации\", метод validate() \"без реализации\". Сделайте так, чтобы методы \"без реализации\" выбрасывали исключение NotImplementedError при их вызове и ничего другого не делали. Создайте также конструктор класса, который не принимает дополнительных аргументов и в реализации только лишь вызывает self.validate().,"
   ]
  },
  {
   "cell_type": "code",
   "execution_count": 34,
   "id": "77175073-0756-46c4-8e38-bf8c31f34336",
   "metadata": {},
   "outputs": [],
   "source": [
    "class BaseFigure:\n",
    "    n_dots = None\n",
    "    def __init__(self):\n",
    "        self.validate()\n",
    "\n",
    "    def area(self):\n",
    "        raise NotImplementedError\n",
    "        \n",
    "    def validate(self):\n",
    "        raise NotImplementedError"
   ]
  },
  {
   "cell_type": "markdown",
   "id": "2ebf3bad-d24c-4d87-a6c0-31a1cd69b1cb",
   "metadata": {},
   "source": [
    "> Наследование: абстрактный класс (2/4)\n",
    "\n",
    "Перепишите классы Triangle, Rectangle так, чтобы они наследовались от BaseFigure. Затем уберите реализацию всех методов и конструкторов в классах-потомках.\n",
    "\n",
    "Есть ли у Triangle, Rectangle методы area, validate? Если есть, то что они возвращают при вызове?"
   ]
  },
  {
   "cell_type": "code",
   "execution_count": 35,
   "id": "16672172-c6ee-4940-84b1-7219675e1d04",
   "metadata": {},
   "outputs": [],
   "source": [
    "class Triangle(BaseFigure):\n",
    "    n_dots = 3 "
   ]
  },
  {
   "cell_type": "code",
   "execution_count": 36,
   "id": "76b29084-fed5-4ce9-a390-be8abe87e0b7",
   "metadata": {},
   "outputs": [],
   "source": [
    "class Rectangle(BaseFigure):\n",
    "    n_dots = 4"
   ]
  },
  {
   "cell_type": "code",
   "execution_count": 39,
   "id": "b069d7e3-c691-4276-91ef-e3c868eff3aa",
   "metadata": {},
   "outputs": [
    {
     "ename": "NotImplementedError",
     "evalue": "",
     "output_type": "error",
     "traceback": [
      "\u001b[0;31m---------------------------------------------------------------------------\u001b[0m",
      "\u001b[0;31mNotImplementedError\u001b[0m                       Traceback (most recent call last)",
      "Cell \u001b[0;32mIn[39], line 1\u001b[0m\n\u001b[0;32m----> 1\u001b[0m tr1 \u001b[38;5;241m=\u001b[39m Triangle()\n\u001b[1;32m      2\u001b[0m tr1\u001b[38;5;241m.\u001b[39marea()\n",
      "Cell \u001b[0;32mIn[34], line 4\u001b[0m, in \u001b[0;36mBaseFigure.__init__\u001b[0;34m(self)\u001b[0m\n\u001b[1;32m      3\u001b[0m \u001b[38;5;28;01mdef\u001b[39;00m \u001b[38;5;21m__init__\u001b[39m(\u001b[38;5;28mself\u001b[39m):\n\u001b[0;32m----> 4\u001b[0m     \u001b[38;5;28mself\u001b[39m\u001b[38;5;241m.\u001b[39mvalidate()\n",
      "Cell \u001b[0;32mIn[34], line 10\u001b[0m, in \u001b[0;36mBaseFigure.validate\u001b[0;34m(self)\u001b[0m\n\u001b[1;32m      9\u001b[0m \u001b[38;5;28;01mdef\u001b[39;00m \u001b[38;5;21mvalidate\u001b[39m(\u001b[38;5;28mself\u001b[39m):\n\u001b[0;32m---> 10\u001b[0m     \u001b[38;5;28;01mraise\u001b[39;00m \u001b[38;5;167;01mNotImplementedError\u001b[39;00m\n",
      "\u001b[0;31mNotImplementedError\u001b[0m: "
     ]
    }
   ],
   "source": [
    "tr1 = Triangle() \n",
    "# Есть оба метода, оба выбрасывают исключение NotImplemented"
   ]
  },
  {
   "cell_type": "markdown",
   "id": "b0457aa4-eca7-4153-a100-5f43c3444d80",
   "metadata": {},
   "source": [
    "> Наследование: абстрактный класс (3/4)\n",
    "\n",
    "Возьмите классы Triangle и Rectangle из прошлого задания.\n",
    "\n",
    "Переопределите метод area в каждом случае.\n",
    "\n",
    "Переопределите конструктор в каждом случае (число аргументов тоже меняется). Не забудьте в конструкторе дочернего класса вызвать конструктор родительского класса!\n",
    "\n",
    "Переопределите метод validate в каждом случае. Метод validate должен принимать только аргумент self и использовать созданные в конструкторе переменные. Для этого вы можете сначала сохранять в конструкторе входные данные в self.переменная, а затем вызывать конструктор суперкласса. Для Triangle данный метод должен проверять неравенство треугольника и выбрасывать ошибку ValueError(\"triangle inequality does not hold\") либо возвращать значения сторон. Для Rectangle данный метод должен возвращать значения сторон.\n",
    "\n",
    "В итоге вы получите два класса, которые построены по схожему шаблону. Этот общий шаблон был задан в классе BaseFigure. Создайте несколько объектов этих классов и попробуйте вызвать у них .area(), .validate(). Если вы пользуетесь IDE, то увидите интерактивные подсказки: она скажет, что такие методы есть и что эти методы перегружают (overload) методы из родительского класса. При этом вызов методов будет работать коррректно."
   ]
  },
  {
   "cell_type": "code",
   "execution_count": 53,
   "id": "e850db37-24cd-4051-86b4-40e36cef2414",
   "metadata": {},
   "outputs": [],
   "source": [
    "class Triangle(BaseFigure):\n",
    "    n_dots = 3  \n",
    "    def __init__(self, a, b, c):\n",
    "        self.a = a\n",
    "        self.b = b\n",
    "        self.c = c\n",
    "        super().__init__()\n",
    "\n",
    "    def area(self):\n",
    "        p = (self.a + self.b + self.c) / 2\n",
    "        return (p * (p - self.a) * (p - self.b) * (p - self.c)) ** 0.5\n",
    "\n",
    "    def validate(self):\n",
    "        if (self.a + self.b <= self.c) or (self.a + self.c <= self.b) or (self.b + self.c <= self.a):\n",
    "            raise ValueError(\"triangle inequality does not hold\")\n",
    "        return self.a, self.b, self.c"
   ]
  },
  {
   "cell_type": "code",
   "execution_count": 55,
   "id": "26f7c33a-b297-4cdc-92b0-e15a794cb49b",
   "metadata": {},
   "outputs": [],
   "source": [
    "class Rectangle(BaseFigure):\n",
    "    n_dots = 4\n",
    "    def __init__(self, a, b):\n",
    "        self.a = a\n",
    "        self.b = b\n",
    "        super().__init__()\n",
    "\n",
    "    def area(self):\n",
    "        return self.a * self.b\n",
    "\n",
    "    def validate(self):\n",
    "        return self.a, self.b"
   ]
  },
  {
   "cell_type": "code",
   "execution_count": 56,
   "id": "8832eaff-68ac-4475-9d4c-90e59769fd6e",
   "metadata": {},
   "outputs": [
    {
     "data": {
      "text/plain": [
       "6.0"
      ]
     },
     "execution_count": 56,
     "metadata": {},
     "output_type": "execute_result"
    }
   ],
   "source": [
    "triangle = Triangle(3, 4, 5)\n",
    "triangle.area()"
   ]
  },
  {
   "cell_type": "code",
   "execution_count": 57,
   "id": "2c68ae3d-64aa-41af-8cac-78cc6edb3638",
   "metadata": {},
   "outputs": [
    {
     "data": {
      "text/plain": [
       "(3, 4, 5)"
      ]
     },
     "execution_count": 57,
     "metadata": {},
     "output_type": "execute_result"
    }
   ],
   "source": [
    "triangle.validate()"
   ]
  },
  {
   "cell_type": "code",
   "execution_count": 58,
   "id": "0bf30510-9a76-44c1-bdcd-f4477318ad20",
   "metadata": {},
   "outputs": [
    {
     "data": {
      "text/plain": [
       "10"
      ]
     },
     "execution_count": 58,
     "metadata": {},
     "output_type": "execute_result"
    }
   ],
   "source": [
    "rectangle = Rectangle(2, 5)\n",
    "rectangle.area()"
   ]
  },
  {
   "cell_type": "code",
   "execution_count": 59,
   "id": "17a3ee93-7d62-40b4-8621-4f42edebbd5d",
   "metadata": {},
   "outputs": [
    {
     "data": {
      "text/plain": [
       "(2, 5)"
      ]
     },
     "execution_count": 59,
     "metadata": {},
     "output_type": "execute_result"
    }
   ],
   "source": [
    "rectangle.validate()"
   ]
  },
  {
   "cell_type": "markdown",
   "id": "3d141e1e-6a46-4e34-b74e-229085389d65",
   "metadata": {},
   "source": [
    "> Наследование: абстрактный класс (4/4)\n",
    "> \n",
    "Попробуем собрать совершенно новый класс, используя BaseFigure в качестве шаблона.\n",
    "\n",
    "Напишите класс Circle, в котором в качестве n_dots будет float('inf'), area будет считаться как 3.14 * r^2, а конструктор будет принимать только один аргумент - r. Метод validate не должен принимать никаких аргументов и не должен осуществлять никаких проверок."
   ]
  },
  {
   "cell_type": "code",
   "execution_count": 63,
   "id": "d14faa82-961b-46a1-8375-93aafc47d445",
   "metadata": {},
   "outputs": [],
   "source": [
    "class Circle(BaseFigure):\n",
    "    n_dots = float('inf')\n",
    "\n",
    "    def __init__(self, r):\n",
    "        self.r = r\n",
    "        super().__init__()\n",
    "\n",
    "    def validate(self):\n",
    "        return self.r\n",
    "\n",
    "    def area(self):\n",
    "        return 3.14 * self.r ** 2"
   ]
  },
  {
   "cell_type": "code",
   "execution_count": 64,
   "id": "17283e1f-0c8f-45df-87cc-327c1a7cedd5",
   "metadata": {},
   "outputs": [],
   "source": [
    "circle = Circle(9)"
   ]
  },
  {
   "cell_type": "code",
   "execution_count": 65,
   "id": "013afd79-9857-4fc8-96f8-2cf914f73dc4",
   "metadata": {},
   "outputs": [
    {
     "data": {
      "text/plain": [
       "9"
      ]
     },
     "execution_count": 65,
     "metadata": {},
     "output_type": "execute_result"
    }
   ],
   "source": [
    "circle.validate()"
   ]
  },
  {
   "cell_type": "code",
   "execution_count": 67,
   "id": "2fcaaf37-6312-417e-bc8e-16766d5ad506",
   "metadata": {},
   "outputs": [
    {
     "data": {
      "text/plain": [
       "254.34"
      ]
     },
     "execution_count": 67,
     "metadata": {},
     "output_type": "execute_result"
    }
   ],
   "source": [
    "circle.area()"
   ]
  },
  {
   "cell_type": "markdown",
   "id": "1cbef491-2179-4804-a84d-b3b91b74a0ae",
   "metadata": {},
   "source": [
    "> Магические методы: вектор (1/4)\n",
    "> \n",
    "Напишите класс Vector, который на вход будет принимать список координат (x1, ... ,xn)\n",
    "\n",
    "Положите все координаты вектора в список self.coords.\n",
    "\n",
    "Добейтесь того, чтобы объекты класса Vector можно было складывать через оператор + и получать на выходе тоже объект этого же класса. Например:"
   ]
  },
  {
   "cell_type": "code",
   "execution_count": 95,
   "id": "04139ecc-0eae-40c8-aa7c-34ae8fce9322",
   "metadata": {},
   "outputs": [],
   "source": [
    "class Vector:\n",
    "    def __init__(self, coords: list):\n",
    "        self.coords = coords\n",
    "\n",
    "    def __add__(self, other):\n",
    "        if len(self.coords) != len(other.coords):\n",
    "            raise ValueError(\n",
    "                f\"left and right lengths differ: {len(self.coords)} != {len(other.coords)}\"\n",
    "            )\n",
    "        a = []\n",
    "        for i in range(len(self.coords)):\n",
    "            a.append(self.coords[i] + other.coords[i])\n",
    "        return Vector(a)\n",
    "\n",
    "    def __str__(self):\n",
    "        return f\"{self.coords}\"\n",
    "\n",
    "\n",
    "    \n",
    "        "
   ]
  },
  {
   "cell_type": "code",
   "execution_count": 96,
   "id": "5df16fb9-3d0c-4129-9c30-08b6811969ff",
   "metadata": {},
   "outputs": [
    {
     "name": "stdout",
     "output_type": "stream",
     "text": [
      "[3, 5, 7]\n"
     ]
    }
   ],
   "source": [
    "print(Vector([1, 2, 3]) + Vector([2, 3, 4]))\n"
   ]
  },
  {
   "cell_type": "markdown",
   "id": "48412636-2819-4fa3-877a-276075d4ef53",
   "metadata": {
    "jp-MarkdownHeadingCollapsed": true
   },
   "source": [
    "> Магические методы: вектор (2/4)\n",
    "\n",
    "Добавим могущества нашему вектору.\n",
    "\n",
    "Добавьте методу красивый вывод при передаче его в print(...). \n",
    "\n",
    "Пример:\n",
    "\n",
    "print(Vector([1, 2, 3]))\n",
    "Напечатает: \"[1, 2, 3]\" без кавычек\n",
    "\n",
    "vec = Vector([1])\n",
    "print(vec)\n",
    "Напечатает \"[1]\" без кавычек`\n"
   ]
  },
  {
   "cell_type": "code",
   "execution_count": 106,
   "id": "3934bbf5-0f73-4cf2-896b-8e55e9510550",
   "metadata": {},
   "outputs": [],
   "source": [
    "class Vector:\n",
    "    def __init__(self, coords: list):\n",
    "        self.coords = coords\n",
    "\n",
    "    def __add__(self, other):\n",
    "        if len(self.coords) != len(other.coords):\n",
    "            raise ValueError(\n",
    "                f\"left and right lengths differ: {len(self.coords)} != {len(other.coords)}\"\n",
    "            )\n",
    "        a = []\n",
    "        for i in range(len(self.coords)):\n",
    "            a.append(self.coords[i] + other.coords[i])\n",
    "        return Vector(a)\n",
    "\n",
    "    def __str__(self):\n",
    "        return f\"{self.coords}\" "
   ]
  },
  {
   "cell_type": "code",
   "execution_count": 107,
   "id": "ef319371-4b7c-4d98-8dcf-e67f90877949",
   "metadata": {},
   "outputs": [
    {
     "name": "stdout",
     "output_type": "stream",
     "text": [
      "[1, 2, 3]\n"
     ]
    }
   ],
   "source": [
    "print(Vector([1, 2, 3]))"
   ]
  },
  {
   "cell_type": "code",
   "execution_count": 108,
   "id": "ed4ae3d0-18e1-4874-825e-6d452b85133d",
   "metadata": {},
   "outputs": [
    {
     "name": "stdout",
     "output_type": "stream",
     "text": [
      "[1]\n"
     ]
    }
   ],
   "source": [
    "vec = Vector([1])\n",
    "print(vec)"
   ]
  },
  {
   "cell_type": "markdown",
   "id": "4d4f4b32-864d-4592-b8e4-601f0569ef2d",
   "metadata": {},
   "source": [
    "> Магические методы: вектор (3/4)\n",
    "> \n",
    "Продолжаем улучшать вектор. Добавьте в класс возможность умножать вектор на вектор и вектор на число. Не забудьте сохранять координаты вектора в self.coords.\n",
    "\n",
    "Vector([1, 2, 3]) * Vector([2, 5, -2])  # даст 6\n",
    "\n",
    " 1 * 2 + 2 * 5 + 3 * (-2) = 6\n",
    "\n",
    "Vector([1, 2]) * Vector([2, 3, 4])\n",
    "\n",
    "ValueError: left and right lengths differ: 2 != 3\n",
    "\n",
    "Vector([2, 3, 5, 8]) * 5  # даст Vector([10, 15, 25, 40])\n",
    "\n",
    "\n",
    "Для проверки типов используйте isinstance(object, class)."
   ]
  },
  {
   "cell_type": "code",
   "execution_count": 153,
   "id": "25938ec7-1bc3-4d7a-a1fa-65d5d4c2eb68",
   "metadata": {},
   "outputs": [],
   "source": [
    "class Vector:\n",
    "    def __init__(self, coords: list):\n",
    "        self.coords = coords\n",
    "\n",
    "    def __add__(self, other):\n",
    "        if len(self.coords) != len(other.coords):\n",
    "            raise ValueError(\n",
    "                f\"left and right lengths differ: {len(self.coords)} != {len(other.coords)}\"\n",
    "            )\n",
    "        return Vector([x + y for x, y in zip(self.coords, other.coords)])\n",
    "\n",
    "    def __mul__(self, other):\n",
    "        if isinstance(other, Vector):\n",
    "            if len(self.coords) != len(other.coords):\n",
    "                raise ValueError(\n",
    "                    f\"left and right lengths differ: {len(self.coords)} != {len(other.coords)}\"\n",
    "                )\n",
    "            return sum(x * y for x, y in zip(self.coords, other.coords))\n",
    "        \n",
    "        elif isinstance(other, (int, float)):\n",
    "            return Vector([x * other for x in self.coords])\n",
    "        \n",
    "        else:\n",
    "            raise TypeError(f\"unsupported operand type(s) for *: 'Vector' and '{type(other).__name__}'\")\n",
    "\n",
    "    def __repr__(self):\n",
    "        return f\"Vector({self.coords})\""
   ]
  },
  {
   "cell_type": "code",
   "execution_count": 154,
   "id": "a4e1ae7d-da16-49dd-b1f8-1976b16f04e0",
   "metadata": {},
   "outputs": [
    {
     "name": "stdout",
     "output_type": "stream",
     "text": [
      "Vector([10, 15, 25, 40])\n"
     ]
    }
   ],
   "source": [
    "print(Vector([2, 3, 5, 8]) * 5)"
   ]
  },
  {
   "cell_type": "code",
   "execution_count": 157,
   "id": "7d63958c-ea17-447a-bcac-3534d8fe829c",
   "metadata": {},
   "outputs": [
    {
     "name": "stdout",
     "output_type": "stream",
     "text": [
      "6\n"
     ]
    }
   ],
   "source": [
    "print(Vector([1, 2, 3]) * Vector([2, 5, -2]))"
   ]
  },
  {
   "cell_type": "markdown",
   "id": "65e93f55-2637-4388-b01f-a5df8ddc3e8a",
   "metadata": {},
   "source": [
    "> Магические методы: вектор (4/4)\n",
    "\n",
    "Добавьте в класс возможности сравнивать два вектора между собой и считать abs (это длина вектора, в Евклидовой метрике).\n",
    "\n",
    "abs(Vector([-12, 5]))  # Должно быть 13\n",
    "\n",
    "Vector([1, 3, 5]) == Vector([1])  # False\n",
    "Vector([1, 3, 5]) == Vector([-1, 3, 5])  # False\n",
    "Vector([1, 3, 5]) == Vector([1, 3, 5])  # True\n",
    "\n",
    "\n",
    "По итогу мы получим вектора, которые можно складывать, умножать, печатать, считать длину и сравнивать на равенство друг с другом."
   ]
  },
  {
   "cell_type": "code",
   "execution_count": 158,
   "id": "e51cb725-b843-46bb-ae53-98c2cecec9a0",
   "metadata": {},
   "outputs": [],
   "source": [
    "class Vector:\n",
    "    def __init__(self, coords):\n",
    "        self.coords = coords\n",
    "\n",
    "    def __add__(self, other):\n",
    "        if len(self.coords) != len(other.coords):\n",
    "            raise ValueError(\n",
    "                f\"left and right lengths differ: {len(self.coords)} != {len(other.coords)}\"\n",
    "            )\n",
    "        return Vector([x + y for x, y in zip(self.coords, other.coords)])\n",
    "\n",
    "    def __mul__(self, other):\n",
    "        if isinstance(other, Vector):\n",
    "            if len(self.coords) != len(other.coords):\n",
    "                raise ValueError(\n",
    "                    f\"left and right lengths differ: {len(self.coords)} != {len(other.coords)}\"\n",
    "                )\n",
    "            return sum(x * y for x, y in zip(self.coords, other.coords))\n",
    "        elif isinstance(other, (int, float)):\n",
    "            return Vector([x * other for x in self.coords])\n",
    "        else:\n",
    "            raise TypeError(f\"unsupported operand type(s) for *: 'Vector' and '{type(other).__name__}'\")\n",
    "\n",
    "    def __abs__(self):\n",
    "        return sum(x ** 2 for x in self.coords) ** 0.5\n",
    "\n",
    "    def __eq__(self, other):\n",
    "        if not isinstance(other, Vector):\n",
    "            return False\n",
    "        return self.coords == other.coords\n",
    "\n",
    "    def __repr__(self):\n",
    "        return f\"Vector({self.coords})\""
   ]
  },
  {
   "cell_type": "code",
   "execution_count": 159,
   "id": "8856d3ea-e210-4788-bd17-9f340ed32f7e",
   "metadata": {},
   "outputs": [
    {
     "name": "stdout",
     "output_type": "stream",
     "text": [
      "13.0\n"
     ]
    }
   ],
   "source": [
    "print(abs(Vector([-12, 5])))"
   ]
  },
  {
   "cell_type": "code",
   "execution_count": 160,
   "id": "01d6b55d-52d6-49a0-b162-2a6925bc7d84",
   "metadata": {},
   "outputs": [
    {
     "name": "stdout",
     "output_type": "stream",
     "text": [
      "False\n"
     ]
    }
   ],
   "source": [
    "print(Vector([1, 3, 5]) == Vector([1]))"
   ]
  },
  {
   "cell_type": "code",
   "execution_count": 161,
   "id": "78ecdabb-0c4d-4206-9134-48145c73fe3a",
   "metadata": {},
   "outputs": [
    {
     "name": "stdout",
     "output_type": "stream",
     "text": [
      "True\n"
     ]
    }
   ],
   "source": [
    "print(Vector([1]) == Vector([1]))"
   ]
  },
  {
   "cell_type": "markdown",
   "id": "7aff1b5d-c1df-4d4e-903a-f5a9c3fcf251",
   "metadata": {},
   "source": [
    "> Множественное наследование (1/3)\n",
    "\n",
    "Обычно множественное наследование используют в т.н. Mixins. Mixin (рус. миксины) - это класс, не имеющий полей и имеющий один или более не абстрактных методов (т.е. методов с реализацией). Обычно миксины используют для того, чтобы модульно раздавать различные функциональности различным объектам.\n",
    "\n",
    "Разным классам в приложении потребуется разная функциональность: кому-то потребуется проверять, есть ли в headers ключ \"Accept\", кому-то потребуется читать body, а кому-то понадобится проверять пустоту cookies. Будут и классы, которым потребуется несколько возможностей сразу.\n",
    "\n",
    "Напишите классы ParsesCookies, ParsesBody, ParsesHeaders по условиям:\n",
    "\n",
    "Класс ParsesCookies имеет метод cookies(), возвращающий все по ключу cookies из словаря self.request.\n",
    "\n",
    "Класс ParsesCookies имеет метод is_authed(), который будет проверять, что в словаре cookies будет ключ auth_key.\n",
    "\n",
    "Класс ParsesBody имеет метод body(), возвращающий текст по ключу body в self.request.\n",
    "\n",
    "Класс ParsesHeaders имеет метод headers(), возвращающий все по ключу headers из словаря self.request.\n",
    "\n",
    "Класс ParsesHeaders имеет метод need_json(), который возвращает True, если в headers по ключу \"content-type\" лежит значение \"application/json\", иначе False.\n"
   ]
  },
  {
   "cell_type": "code",
   "execution_count": 168,
   "id": "ce10b808-5709-4fbd-9ae2-7be8da07aae2",
   "metadata": {},
   "outputs": [],
   "source": [
    "class ParsesCookies:\n",
    "    def cookies(self):\n",
    "        return self.request.get('cookies', {})\n",
    "\n",
    "    def is_authed(self):\n",
    "        return 'auth_key' in self.cookies()"
   ]
  },
  {
   "cell_type": "code",
   "execution_count": 169,
   "id": "74ea199b-f842-4d85-b917-38a4194df82b",
   "metadata": {},
   "outputs": [],
   "source": [
    "class ParsesBody:\n",
    "    def body(self):\n",
    "        return self.request.get('body', '')"
   ]
  },
  {
   "cell_type": "code",
   "execution_count": 170,
   "id": "1fc99efa-fd44-4d8d-967d-f7d14f75f4f9",
   "metadata": {},
   "outputs": [],
   "source": [
    "class ParsesHeaders:\n",
    "    def headers(self):\n",
    "        return self.request.get('headers', {})\n",
    "\n",
    "    def need_json(self):\n",
    "        return self.headers().get('content-type') == 'application/json'"
   ]
  },
  {
   "cell_type": "markdown",
   "id": "3ba70591-cdaf-4bdf-aaa2-03084d01f3c4",
   "metadata": {},
   "source": [
    "> Множественное наследование (2/3)\n",
    ">\n",
    "> \n",
    "Используя миксины из прошлого пункта, напишите класс JsonHandler, который будет наследоваться от классов ParsesBody и ParsesHeaders , иметь метод process() и конструктор, принимающий аргумент request и сохраняющий в self.request. В этом задании нужно использовать библиотеку json.\n",
    "\n",
    "Метод process() должен работать следующим образом:\n",
    "\n",
    "Если need_json() дает False, то возвращать None\n",
    "Иначе получать тело через body(), пытаться считать его как json.loads(...) и возвращать число ключей в словаре. Если считать не удалось, то вернуть None.\n",
    "Отправьте реализацию класса JsonHandler в LMS. Классы ParsesBody и ParsesHeaders отправлять не нужно.\n",
    "\n",
    "Обратите внимание, что с помощью миксин функциональность проверки headers и получения body была вынесена за JsonHandler - наш класс сосредоточился именно на обработке."
   ]
  },
  {
   "cell_type": "code",
   "execution_count": 171,
   "id": "186a66bd-ac8b-4b0d-8605-2de8e7272f83",
   "metadata": {},
   "outputs": [],
   "source": [
    "import json\n",
    "\n",
    "class JsonHandler(ParsesBody, ParsesHeaders):\n",
    "    def __init__(self, request):\n",
    "        self.request =  request\n",
    "\n",
    "    def process(self):\n",
    "        if super().need_json():\n",
    "            return super().body()\n",
    "        else: \n",
    "            data = json.loads(self.body())\n",
    "            if isinstance(data, dict):\n",
    "                return len(data)\n"
   ]
  },
  {
   "cell_type": "code",
   "execution_count": 172,
   "id": "4456ac55-9653-49e7-90ec-01a64829c2ce",
   "metadata": {},
   "outputs": [
    {
     "name": "stdout",
     "output_type": "stream",
     "text": [
      "{\"a\": 123, \"b\": 1234}\n"
     ]
    }
   ],
   "source": [
    "r = {'body': '{\"a\": 123, \"b\": 1234}',\n",
    "     'headers': {'content-type': 'application/json'}\n",
    "    }\n",
    "print(JsonHandler(r).process())"
   ]
  },
  {
   "cell_type": "markdown",
   "id": "2ef3de2e-94d6-4708-830a-1a3081ef7d90",
   "metadata": {},
   "source": [
    ">  Множественное наследование (3/3)\n",
    "> \n",
    "Используя миксины из прошлого пункта, напишите класс SecureTextHandler, который будет наследоваться от классов ParsesBody и ParsesCookies , иметь метод process() и конструктор, принимающий один аргумент и сохраняющий его в нужное поле класса.\n",
    "\n",
    "Метод process() должен работать следующим образом:\n",
    "\n",
    "Если is_authed() дает False, то возвращать None.\n",
    "\n",
    "Иначе получать тело через body() и возвращать его длину.\n",
    "\n",
    "Добейтесь работоспособности на примере и реализацию класса SecureTextHandler отправьте в LMS. Классы ParsesBody и ParsesHeaders, ParsesCookie отправлять не нужно."
   ]
  },
  {
   "cell_type": "code",
   "execution_count": 173,
   "id": "ce88170f-d419-4f32-8c17-465f7406d05b",
   "metadata": {},
   "outputs": [],
   "source": [
    "class SecureTextHandler(ParsesBody, ParsesCookies):\n",
    "    def __init__(self, request):\n",
    "        self.request = request\n",
    "\n",
    "    def process(self):\n",
    "        if not self.is_authed():\n",
    "            return None\n",
    "        return len(self.body())"
   ]
  },
  {
   "cell_type": "code",
   "execution_count": 174,
   "id": "a7dbbf35-135c-4876-bd38-9643930e745a",
   "metadata": {},
   "outputs": [
    {
     "name": "stdout",
     "output_type": "stream",
     "text": [
      "5\n"
     ]
    }
   ],
   "source": [
    "r = {'cookies': {'auth_key': '123'},\n",
    "     'body': 'hello'\n",
    "    }\n",
    "print(SecureTextHandler(r).process())"
   ]
  },
  {
   "cell_type": "code",
   "execution_count": 175,
   "id": "32e70d77-94a8-4734-ae60-a6bf86a5069e",
   "metadata": {},
   "outputs": [
    {
     "name": "stdout",
     "output_type": "stream",
     "text": [
      "None\n"
     ]
    }
   ],
   "source": [
    "r = {'cookies': {}, 'body': 'hello' } \n",
    "print(SecureTextHandler(r).process())"
   ]
  },
  {
   "cell_type": "code",
   "execution_count": null,
   "id": "af02ce30-7e4f-40de-b532-af6d1f5a2473",
   "metadata": {},
   "outputs": [],
   "source": []
  },
  {
   "cell_type": "code",
   "execution_count": null,
   "id": "49ea9f8c-7a5e-457e-9d76-46ca5affe60b",
   "metadata": {},
   "outputs": [],
   "source": []
  }
 ],
 "metadata": {
  "kernelspec": {
   "display_name": "Python 3 (ipykernel)",
   "language": "python",
   "name": "python3"
  },
  "language_info": {
   "codemirror_mode": {
    "name": "ipython",
    "version": 3
   },
   "file_extension": ".py",
   "mimetype": "text/x-python",
   "name": "python",
   "nbconvert_exporter": "python",
   "pygments_lexer": "ipython3",
   "version": "3.11.7"
  }
 },
 "nbformat": 4,
 "nbformat_minor": 5
}
