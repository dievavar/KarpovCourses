{
  "cells": [
    {
      "cell_type": "code",
      "execution_count": null,
      "metadata": {
        "id": "81t4wEj-9sjI"
      },
      "outputs": [],
      "source": [
        " import pandas as pd"
      ],
      "id": "81t4wEj-9sjI"
    },
    {
      "cell_type": "markdown",
      "metadata": {
        "id": "Eir77xQk9sjK"
      },
      "source": [
        "**Научимся считать метрики в pandas-табличках**\n",
        "\n",
        "Представим, что 2 добрых и очень-очень умных гнома прокрались к нам в данные, описывающие различные поездки в такси.\n",
        "Далее, для каждого объекта (и его признаков, соответственно), гномы построили модели предсказания того, какая должна была быть у данных заказов длительность исполнения. Прогнозы своих моделей они положили соответственно в колонки **prediction_1** и **prediction_2**"
      ],
      "id": "Eir77xQk9sjK"
    },
    {
      "cell_type": "code",
      "execution_count": null,
      "metadata": {
        "id": "cF_CAFZ89sjL"
      },
      "outputs": [],
      "source": [
        "df = pd.read_csv('taxi_dataset_with_predictions.csv', index_col=0)"
      ],
      "id": "cF_CAFZ89sjL"
    },
    {
      "cell_type": "code",
      "execution_count": null,
      "metadata": {
        "id": "UlT5Cex79sjN",
        "colab": {
          "base_uri": "https://localhost:8080/",
          "height": 235
        },
        "outputId": "c9e789da-4b2c-4acb-e714-7e3bf1325b7f"
      },
      "outputs": [
        {
          "output_type": "execute_result",
          "data": {
            "text/plain": [
              "           vendor_id      pickup_datetime  passenger_count  \\\n",
              "id                                                           \n",
              "id2875421          1  2016-03-14 17:24:55       930.399753   \n",
              "id2377394          0  2016-06-12 00:43:35       930.399753   \n",
              "id3858529          1  2016-01-19 11:35:24       930.399753   \n",
              "id3504673          1  2016-04-06 19:32:31       930.399753   \n",
              "id2181028          1  2016-03-26 13:30:55       930.399753   \n",
              "\n",
              "           store_and_fwd_flag  trip_duration  distance_km  prediction_1  \\\n",
              "id                                                                        \n",
              "id2875421                   0          455.0     1.500479    578.156451   \n",
              "id2377394                   0          663.0     1.807119    962.657188   \n",
              "id3858529                   0         2124.0     6.392080   2546.180515   \n",
              "id3504673                   0          429.0     1.487155    737.926214   \n",
              "id2181028                   0          435.0     1.189925    666.070794   \n",
              "\n",
              "           prediction_2  \n",
              "id                       \n",
              "id2875421    355.270710  \n",
              "id2377394    674.295781  \n",
              "id3858529   2422.132431  \n",
              "id3504673    795.992362  \n",
              "id2181028     -4.158492  "
            ],
            "text/html": [
              "\n",
              "  <div id=\"df-540494ca-116b-4488-b5c6-15e7b599a244\" class=\"colab-df-container\">\n",
              "    <div>\n",
              "<style scoped>\n",
              "    .dataframe tbody tr th:only-of-type {\n",
              "        vertical-align: middle;\n",
              "    }\n",
              "\n",
              "    .dataframe tbody tr th {\n",
              "        vertical-align: top;\n",
              "    }\n",
              "\n",
              "    .dataframe thead th {\n",
              "        text-align: right;\n",
              "    }\n",
              "</style>\n",
              "<table border=\"1\" class=\"dataframe\">\n",
              "  <thead>\n",
              "    <tr style=\"text-align: right;\">\n",
              "      <th></th>\n",
              "      <th>vendor_id</th>\n",
              "      <th>pickup_datetime</th>\n",
              "      <th>passenger_count</th>\n",
              "      <th>store_and_fwd_flag</th>\n",
              "      <th>trip_duration</th>\n",
              "      <th>distance_km</th>\n",
              "      <th>prediction_1</th>\n",
              "      <th>prediction_2</th>\n",
              "    </tr>\n",
              "    <tr>\n",
              "      <th>id</th>\n",
              "      <th></th>\n",
              "      <th></th>\n",
              "      <th></th>\n",
              "      <th></th>\n",
              "      <th></th>\n",
              "      <th></th>\n",
              "      <th></th>\n",
              "      <th></th>\n",
              "    </tr>\n",
              "  </thead>\n",
              "  <tbody>\n",
              "    <tr>\n",
              "      <th>id2875421</th>\n",
              "      <td>1</td>\n",
              "      <td>2016-03-14 17:24:55</td>\n",
              "      <td>930.399753</td>\n",
              "      <td>0</td>\n",
              "      <td>455.0</td>\n",
              "      <td>1.500479</td>\n",
              "      <td>578.156451</td>\n",
              "      <td>355.270710</td>\n",
              "    </tr>\n",
              "    <tr>\n",
              "      <th>id2377394</th>\n",
              "      <td>0</td>\n",
              "      <td>2016-06-12 00:43:35</td>\n",
              "      <td>930.399753</td>\n",
              "      <td>0</td>\n",
              "      <td>663.0</td>\n",
              "      <td>1.807119</td>\n",
              "      <td>962.657188</td>\n",
              "      <td>674.295781</td>\n",
              "    </tr>\n",
              "    <tr>\n",
              "      <th>id3858529</th>\n",
              "      <td>1</td>\n",
              "      <td>2016-01-19 11:35:24</td>\n",
              "      <td>930.399753</td>\n",
              "      <td>0</td>\n",
              "      <td>2124.0</td>\n",
              "      <td>6.392080</td>\n",
              "      <td>2546.180515</td>\n",
              "      <td>2422.132431</td>\n",
              "    </tr>\n",
              "    <tr>\n",
              "      <th>id3504673</th>\n",
              "      <td>1</td>\n",
              "      <td>2016-04-06 19:32:31</td>\n",
              "      <td>930.399753</td>\n",
              "      <td>0</td>\n",
              "      <td>429.0</td>\n",
              "      <td>1.487155</td>\n",
              "      <td>737.926214</td>\n",
              "      <td>795.992362</td>\n",
              "    </tr>\n",
              "    <tr>\n",
              "      <th>id2181028</th>\n",
              "      <td>1</td>\n",
              "      <td>2016-03-26 13:30:55</td>\n",
              "      <td>930.399753</td>\n",
              "      <td>0</td>\n",
              "      <td>435.0</td>\n",
              "      <td>1.189925</td>\n",
              "      <td>666.070794</td>\n",
              "      <td>-4.158492</td>\n",
              "    </tr>\n",
              "  </tbody>\n",
              "</table>\n",
              "</div>\n",
              "    <div class=\"colab-df-buttons\">\n",
              "\n",
              "  <div class=\"colab-df-container\">\n",
              "    <button class=\"colab-df-convert\" onclick=\"convertToInteractive('df-540494ca-116b-4488-b5c6-15e7b599a244')\"\n",
              "            title=\"Convert this dataframe to an interactive table.\"\n",
              "            style=\"display:none;\">\n",
              "\n",
              "  <svg xmlns=\"http://www.w3.org/2000/svg\" height=\"24px\" viewBox=\"0 -960 960 960\">\n",
              "    <path d=\"M120-120v-720h720v720H120Zm60-500h600v-160H180v160Zm220 220h160v-160H400v160Zm0 220h160v-160H400v160ZM180-400h160v-160H180v160Zm440 0h160v-160H620v160ZM180-180h160v-160H180v160Zm440 0h160v-160H620v160Z\"/>\n",
              "  </svg>\n",
              "    </button>\n",
              "\n",
              "  <style>\n",
              "    .colab-df-container {\n",
              "      display:flex;\n",
              "      gap: 12px;\n",
              "    }\n",
              "\n",
              "    .colab-df-convert {\n",
              "      background-color: #E8F0FE;\n",
              "      border: none;\n",
              "      border-radius: 50%;\n",
              "      cursor: pointer;\n",
              "      display: none;\n",
              "      fill: #1967D2;\n",
              "      height: 32px;\n",
              "      padding: 0 0 0 0;\n",
              "      width: 32px;\n",
              "    }\n",
              "\n",
              "    .colab-df-convert:hover {\n",
              "      background-color: #E2EBFA;\n",
              "      box-shadow: 0px 1px 2px rgba(60, 64, 67, 0.3), 0px 1px 3px 1px rgba(60, 64, 67, 0.15);\n",
              "      fill: #174EA6;\n",
              "    }\n",
              "\n",
              "    .colab-df-buttons div {\n",
              "      margin-bottom: 4px;\n",
              "    }\n",
              "\n",
              "    [theme=dark] .colab-df-convert {\n",
              "      background-color: #3B4455;\n",
              "      fill: #D2E3FC;\n",
              "    }\n",
              "\n",
              "    [theme=dark] .colab-df-convert:hover {\n",
              "      background-color: #434B5C;\n",
              "      box-shadow: 0px 1px 3px 1px rgba(0, 0, 0, 0.15);\n",
              "      filter: drop-shadow(0px 1px 2px rgba(0, 0, 0, 0.3));\n",
              "      fill: #FFFFFF;\n",
              "    }\n",
              "  </style>\n",
              "\n",
              "    <script>\n",
              "      const buttonEl =\n",
              "        document.querySelector('#df-540494ca-116b-4488-b5c6-15e7b599a244 button.colab-df-convert');\n",
              "      buttonEl.style.display =\n",
              "        google.colab.kernel.accessAllowed ? 'block' : 'none';\n",
              "\n",
              "      async function convertToInteractive(key) {\n",
              "        const element = document.querySelector('#df-540494ca-116b-4488-b5c6-15e7b599a244');\n",
              "        const dataTable =\n",
              "          await google.colab.kernel.invokeFunction('convertToInteractive',\n",
              "                                                    [key], {});\n",
              "        if (!dataTable) return;\n",
              "\n",
              "        const docLinkHtml = 'Like what you see? Visit the ' +\n",
              "          '<a target=\"_blank\" href=https://colab.research.google.com/notebooks/data_table.ipynb>data table notebook</a>'\n",
              "          + ' to learn more about interactive tables.';\n",
              "        element.innerHTML = '';\n",
              "        dataTable['output_type'] = 'display_data';\n",
              "        await google.colab.output.renderOutput(dataTable, element);\n",
              "        const docLink = document.createElement('div');\n",
              "        docLink.innerHTML = docLinkHtml;\n",
              "        element.appendChild(docLink);\n",
              "      }\n",
              "    </script>\n",
              "  </div>\n",
              "\n",
              "\n",
              "    <div id=\"df-263fd52b-8ea5-4cb6-923c-1c99df772660\">\n",
              "      <button class=\"colab-df-quickchart\" onclick=\"quickchart('df-263fd52b-8ea5-4cb6-923c-1c99df772660')\"\n",
              "                title=\"Suggest charts\"\n",
              "                style=\"display:none;\">\n",
              "\n",
              "<svg xmlns=\"http://www.w3.org/2000/svg\" height=\"24px\"viewBox=\"0 0 24 24\"\n",
              "     width=\"24px\">\n",
              "    <g>\n",
              "        <path d=\"M19 3H5c-1.1 0-2 .9-2 2v14c0 1.1.9 2 2 2h14c1.1 0 2-.9 2-2V5c0-1.1-.9-2-2-2zM9 17H7v-7h2v7zm4 0h-2V7h2v10zm4 0h-2v-4h2v4z\"/>\n",
              "    </g>\n",
              "</svg>\n",
              "      </button>\n",
              "\n",
              "<style>\n",
              "  .colab-df-quickchart {\n",
              "      --bg-color: #E8F0FE;\n",
              "      --fill-color: #1967D2;\n",
              "      --hover-bg-color: #E2EBFA;\n",
              "      --hover-fill-color: #174EA6;\n",
              "      --disabled-fill-color: #AAA;\n",
              "      --disabled-bg-color: #DDD;\n",
              "  }\n",
              "\n",
              "  [theme=dark] .colab-df-quickchart {\n",
              "      --bg-color: #3B4455;\n",
              "      --fill-color: #D2E3FC;\n",
              "      --hover-bg-color: #434B5C;\n",
              "      --hover-fill-color: #FFFFFF;\n",
              "      --disabled-bg-color: #3B4455;\n",
              "      --disabled-fill-color: #666;\n",
              "  }\n",
              "\n",
              "  .colab-df-quickchart {\n",
              "    background-color: var(--bg-color);\n",
              "    border: none;\n",
              "    border-radius: 50%;\n",
              "    cursor: pointer;\n",
              "    display: none;\n",
              "    fill: var(--fill-color);\n",
              "    height: 32px;\n",
              "    padding: 0;\n",
              "    width: 32px;\n",
              "  }\n",
              "\n",
              "  .colab-df-quickchart:hover {\n",
              "    background-color: var(--hover-bg-color);\n",
              "    box-shadow: 0 1px 2px rgba(60, 64, 67, 0.3), 0 1px 3px 1px rgba(60, 64, 67, 0.15);\n",
              "    fill: var(--button-hover-fill-color);\n",
              "  }\n",
              "\n",
              "  .colab-df-quickchart-complete:disabled,\n",
              "  .colab-df-quickchart-complete:disabled:hover {\n",
              "    background-color: var(--disabled-bg-color);\n",
              "    fill: var(--disabled-fill-color);\n",
              "    box-shadow: none;\n",
              "  }\n",
              "\n",
              "  .colab-df-spinner {\n",
              "    border: 2px solid var(--fill-color);\n",
              "    border-color: transparent;\n",
              "    border-bottom-color: var(--fill-color);\n",
              "    animation:\n",
              "      spin 1s steps(1) infinite;\n",
              "  }\n",
              "\n",
              "  @keyframes spin {\n",
              "    0% {\n",
              "      border-color: transparent;\n",
              "      border-bottom-color: var(--fill-color);\n",
              "      border-left-color: var(--fill-color);\n",
              "    }\n",
              "    20% {\n",
              "      border-color: transparent;\n",
              "      border-left-color: var(--fill-color);\n",
              "      border-top-color: var(--fill-color);\n",
              "    }\n",
              "    30% {\n",
              "      border-color: transparent;\n",
              "      border-left-color: var(--fill-color);\n",
              "      border-top-color: var(--fill-color);\n",
              "      border-right-color: var(--fill-color);\n",
              "    }\n",
              "    40% {\n",
              "      border-color: transparent;\n",
              "      border-right-color: var(--fill-color);\n",
              "      border-top-color: var(--fill-color);\n",
              "    }\n",
              "    60% {\n",
              "      border-color: transparent;\n",
              "      border-right-color: var(--fill-color);\n",
              "    }\n",
              "    80% {\n",
              "      border-color: transparent;\n",
              "      border-right-color: var(--fill-color);\n",
              "      border-bottom-color: var(--fill-color);\n",
              "    }\n",
              "    90% {\n",
              "      border-color: transparent;\n",
              "      border-bottom-color: var(--fill-color);\n",
              "    }\n",
              "  }\n",
              "</style>\n",
              "\n",
              "      <script>\n",
              "        async function quickchart(key) {\n",
              "          const quickchartButtonEl =\n",
              "            document.querySelector('#' + key + ' button');\n",
              "          quickchartButtonEl.disabled = true;  // To prevent multiple clicks.\n",
              "          quickchartButtonEl.classList.add('colab-df-spinner');\n",
              "          try {\n",
              "            const charts = await google.colab.kernel.invokeFunction(\n",
              "                'suggestCharts', [key], {});\n",
              "          } catch (error) {\n",
              "            console.error('Error during call to suggestCharts:', error);\n",
              "          }\n",
              "          quickchartButtonEl.classList.remove('colab-df-spinner');\n",
              "          quickchartButtonEl.classList.add('colab-df-quickchart-complete');\n",
              "        }\n",
              "        (() => {\n",
              "          let quickchartButtonEl =\n",
              "            document.querySelector('#df-263fd52b-8ea5-4cb6-923c-1c99df772660 button');\n",
              "          quickchartButtonEl.style.display =\n",
              "            google.colab.kernel.accessAllowed ? 'block' : 'none';\n",
              "        })();\n",
              "      </script>\n",
              "    </div>\n",
              "    </div>\n",
              "  </div>\n"
            ],
            "application/vnd.google.colaboratory.intrinsic+json": {
              "type": "dataframe",
              "variable_name": "df"
            }
          },
          "metadata": {},
          "execution_count": 38
        }
      ],
      "source": [
        "df.head()"
      ],
      "id": "UlT5Cex79sjN"
    },
    {
      "cell_type": "markdown",
      "metadata": {
        "id": "hJJOnoaw9sjO"
      },
      "source": [
        "Давайте попробуем оценить, насколько и вправду гномы оказались умными и осведомленными в области построения различных моделей машинного обучения, и найдем, насколько сильно их модели ошибаются на наших данных!"
      ],
      "id": "hJJOnoaw9sjO"
    },
    {
      "cell_type": "markdown",
      "metadata": {
        "id": "ZSeEOdpP9sjO"
      },
      "source": [
        "В начале посчитайте **MSE** модели. Для этого нужно посчитать квадратичное отклонение на каждом объекте, а потом просто усредниться! Полезно иметь формулу перед глазами.\n",
        "\n",
        "$$\n",
        "MSE = \\frac{1}{n} \\sum_i^n (a(x_i)-y_i)^2\n",
        "$$\n",
        "\n",
        "Положите результаты в переменные *error_1* и *error_2* соответственно."
      ],
      "id": "ZSeEOdpP9sjO"
    },
    {
      "cell_type": "code",
      "execution_count": null,
      "metadata": {
        "id": "ozhTh4ls9sjQ"
      },
      "outputs": [],
      "source": [
        "error_1 = ((df['prediction_1'] - df['trip_duration'])**2).mean()\n",
        "error_2 = ((df['prediction_2'] - df['trip_duration'])**2).mean()"
      ],
      "id": "ozhTh4ls9sjQ"
    },
    {
      "cell_type": "code",
      "execution_count": null,
      "metadata": {
        "id": "_JbxQKWp9sjQ",
        "colab": {
          "base_uri": "https://localhost:8080/"
        },
        "outputId": "13dde9a1-04ea-4cff-ca49-6416bd1b5c80"
      },
      "outputs": [
        {
          "output_type": "stream",
          "name": "stdout",
          "text": [
            "MSE первой модели равно: 99994\n",
            "MSE второй модели равно: 124936\n"
          ]
        }
      ],
      "source": [
        "###Распечатайте значения MSE для обеих моделей. Используйте эти значения для ответа на задание шага 5.\n",
        "print(f\"MSE первой модели равно: {int(error_1)}\")\n",
        "print(f\"MSE второй модели равно: {int(error_2)}\")"
      ],
      "id": "_JbxQKWp9sjQ"
    },
    {
      "cell_type": "markdown",
      "metadata": {
        "id": "_AuLIFkJ9sjQ"
      },
      "source": [
        "Видно, что у MSE достаточно большой порядок. Как мы и говорили, глазам куда будет приятнее, если мы будем считать **RMSE**:\n",
        "\n",
        "$$\n",
        "RMSE = \\sqrt{MSE} = \\sqrt{\\frac{1}{n} \\sum_i^n (a(x_i)-y_i)^2}\n",
        "$$"
      ],
      "id": "_AuLIFkJ9sjQ"
    },
    {
      "cell_type": "code",
      "execution_count": null,
      "metadata": {
        "id": "2VsDSCtz9sjS"
      },
      "outputs": [],
      "source": [
        "error_1 = error_1**0.5\n",
        "error_2 = error_2**0.5"
      ],
      "id": "2VsDSCtz9sjS"
    },
    {
      "cell_type": "code",
      "execution_count": null,
      "metadata": {
        "id": "uefqnRqk9sjS",
        "colab": {
          "base_uri": "https://localhost:8080/"
        },
        "outputId": "41f20533-7b3d-42f5-b45f-2048123a5b3f"
      },
      "outputs": [
        {
          "output_type": "stream",
          "name": "stdout",
          "text": [
            "RMSE первой модели равно: 316\n",
            "RMSE второй модели равно: 353\n"
          ]
        }
      ],
      "source": [
        "###Распечатайте значения RMSE для обеих моделей. Используйте эти значения для ответа на задание шага 6.\n",
        "\n",
        "print(f\"RMSE первой модели равно: {int(error_1)}\")\n",
        "print(f\"RMSE второй модели равно: {int(error_2)}\")"
      ],
      "id": "uefqnRqk9sjS"
    },
    {
      "cell_type": "markdown",
      "metadata": {
        "id": "_4jKIu679sjT"
      },
      "source": [
        "Что можете сказать про модели первого и второго гнома? Чья оказалась лучше с точки зрения **MSE**? Давайте теперь замерим значения средней абсолютной ошибки, то есть **MAE**:\n",
        "\n",
        "$$\n",
        "MAE = \\frac{1}{n} \\sum_i^n |a(x_i)-y_i|\n",
        "$$\n",
        "\n",
        "Рассчитайте MAE для обеих моделей."
      ],
      "id": "_4jKIu679sjT"
    },
    {
      "cell_type": "code",
      "execution_count": null,
      "metadata": {
        "id": "Y8smKMFb9sjU"
      },
      "outputs": [],
      "source": [
        "absolute_error_1 = (abs(df.trip_duration - df.prediction_1)).mean()\n",
        "absolute_error_2 = (abs(df.trip_duration - df.prediction_2)).mean()"
      ],
      "id": "Y8smKMFb9sjU"
    },
    {
      "cell_type": "code",
      "execution_count": null,
      "metadata": {
        "id": "JVmfwcBR9sjU",
        "colab": {
          "base_uri": "https://localhost:8080/"
        },
        "outputId": "8c028b05-862b-4531-95f3-880cd5bebb8d"
      },
      "outputs": [
        {
          "output_type": "stream",
          "name": "stdout",
          "text": [
            "MAE первой модели равно: 300\n",
            "MAE второй модели равно: 281\n"
          ]
        }
      ],
      "source": [
        "###Распечатайте значения MAE для обеих моделей. Используйте эти значения для ответа на задание шага 7.\n",
        "print(f\"MAE первой модели равно: {int(absolute_error_1)}\")\n",
        "print(f\"MAE второй модели равно: {int(absolute_error_2)}\")"
      ],
      "id": "JVmfwcBR9sjU"
    },
    {
      "cell_type": "markdown",
      "metadata": {
        "id": "4cT9-FyD9sjV"
      },
      "source": [
        "Если бы Вас попросили выбрать лучшую модель среди предложенных, на какой Вы бы остановились? Если брать за финальную метрику **MAE**, то поменяли бы Вы решение?\n",
        "\n",
        "Конечно! Мы наблюдаем ту самую ситуацию, когда, имея 2 разные модели с разными предсказаниями, финальный выбор однозначно сделать нельзя, например, сказав *\"Первая модель в среднем и в общем лучше второй!\"*. **Нет!** Все зависит от формы ошибки, которую мы выбираем. Иными словами, от вида той самой функции, которая наказывает наши модели и замеряет качество их прогнозов.\n",
        "\n",
        "Ситуация, когда **MAE** и **MSE**, выбирая между 2-х,  указывают на разные модели, знакома нам еще из лекции.\n",
        "\n",
        "Такое может происходить, когда в одной из моделей ошибка, в среднем, независимо от порядка чисел, чуть-чуть лучше, чем во второй. Но при этом если первая модель и ошибается, то куда суровее второй.\n",
        "\n",
        "Представьте: Петя и Миша играют в дартс. Петя в 9/10 случаев попадает в яблочко, но каждый 10-ый раз кидает дротик в потолок. Миша же, хоть и не так часто забрасывает в центр (всего 6/10), но при этом, оставшиеся 4 попытки реализует не совсем фатально: попадает всего-лишь немного дальше яблочка.\n",
        "\n",
        "В таком выдуманном сценарии Петя будет лучше с точки зрения **MAE**, а Миша - с точки зрения **MSE**, так как не допускает фатальных ошибок, хоть и в среднем набирает меньше очков.\n",
        "\n",
        "Давайте убедимся в том, что фатальных ошибок у второй модели больше.\n",
        "\n",
        "Посчитайте, в скольки случаях предсказания отклоняются от ответа более, чем на **500**, для первой и второй моделей!\n",
        "\n",
        "Назовите переменные *counter_1* и *counter_2*"
      ],
      "id": "4cT9-FyD9sjV"
    },
    {
      "cell_type": "code",
      "execution_count": null,
      "metadata": {
        "id": "wOwMclmm9sjV"
      },
      "outputs": [],
      "source": [
        "counter_1 = len((df[abs(df.trip_duration - df.prediction_1)>500]))\n",
        "counter_2 = len((df[abs(df.trip_duration - df.prediction_2)>500]))"
      ],
      "id": "wOwMclmm9sjV"
    },
    {
      "cell_type": "code",
      "execution_count": null,
      "metadata": {
        "id": "D9Q7WLOO9sjV",
        "colab": {
          "base_uri": "https://localhost:8080/"
        },
        "outputId": "bd2b3cc8-0c37-4486-b910-fda9e35adf41"
      },
      "outputs": [
        {
          "output_type": "stream",
          "name": "stdout",
          "text": [
            "Количество отклонений >= 500 от верного ответа для первой модели равно: 33061\n",
            "Количество отклонений >= 500 от верного ответа для второй модели равно: 228789\n"
          ]
        }
      ],
      "source": [
        "###Распечатайте значения для обеих моделей. Используйте эти значения для ответа на задание шага 8.\n",
        "print(f\"Количество отклонений >= 500 от верного ответа для первой модели равно: {counter_1}\")\n",
        "print(f\"Количество отклонений >= 500 от верного ответа для второй модели равно: {counter_2}\")"
      ],
      "id": "D9Q7WLOO9sjV"
    },
    {
      "cell_type": "markdown",
      "metadata": {
        "id": "hn1-bXxK9sjV"
      },
      "source": [
        "**Несимметричные метрики**\n",
        "\n",
        "Зачастую, чтобы выбрать среди всего многообразия моделей, мы можем использовать несимметричные метрики.\n",
        "\n",
        "**MSE** и **MAE** относятся к симметричным. Они одинаково наказывают модель как за перепредсказание, так и за недопредсказание. Ошибки *+2* и *-2* переводятся **MSE** и **MAE** в одинаковую меру: **4** в первом случае и **2** во втором.\n",
        "\n",
        "В действительности же, можно придумать целый ряд задач, когда лучше выбирать несимметричную метрику.\n",
        "\n",
        "Представьте, что мы - дистрибьютор инсулина, и нам нужно построить модель, которая оптимизирует поставки. В таком случае кажется, что поставить лекарства на 2 единицы больше и на 2 единицы меньше - совершенно разные сценарии и разная интерпретация катастрофичности ошибки.\n",
        "\n",
        "В первом случае мы можем потерять немного прибыли, а во втором - лишить пациента жизненно важного лекарства. Поэтому хотелось бы научиться еще и по-разному оценивать *недо- и перепредсказания*. Для этого и используют несимметричные метрики! Одну из них предлагаю Вам посчитать ниже."
      ],
      "id": "hn1-bXxK9sjV"
    },
    {
      "cell_type": "markdown",
      "metadata": {
        "id": "q5y4RARv9sjW"
      },
      "source": [
        "Рассчитайте **RMSLE**. Придумайте, как проверить характер несимметричности данной метрики: за что она наказывает больше - за перепредсказания или за недопредсказания? Это нужно будет в тестовом теоретическом задании.\n",
        "\n",
        "$$\n",
        "\\text{RMSLE}(X, y, a) = \\sqrt{\\frac{1}{\\ell}\\sum_{i=1}^{\\ell} \\big(\\log{(y_i + 1)} - \\log{(a(x_i) + 1)}\\big)^2}\n",
        "$$\n",
        "\n",
        "Для взятия натурального логарифма используйте библиотеку **math**\n",
        "\n",
        "P.S. Очевидно, что для некоторых отрицательных предсказаний, формула не будет работать, так как логарифм от отрицательных значений взять нельзя. Поэтому давайте подкорректируем наши прогнозы: все отрицательные числа переведем в нули (лучше уж в нашей задаче предсказать *ноль секунд*, чем *минус 100 секунд*)\n",
        "\n",
        "Переменные с метриками назовите *rmsle_1*, *rmsle_2*. Округлите их до 3 знаков после точки."
      ],
      "id": "q5y4RARv9sjW"
    },
    {
      "cell_type": "code",
      "execution_count": null,
      "metadata": {
        "id": "Ze18m7x69sjW"
      },
      "outputs": [],
      "source": [
        "### Замените все отрицательные предсказания на 0\n",
        "df.prediction_1 = df.prediction_1.apply(lambda x: max(x, 0))\n",
        "df.prediction_2 = df.prediction_2.apply(lambda x: max(x, 0))"
      ],
      "id": "Ze18m7x69sjW"
    },
    {
      "cell_type": "code",
      "source": [
        "from math import log\n",
        "import numpy as np\n",
        "\n",
        "def rmsle(y_true, y_pred):\n",
        "    n = len(y_true)\n",
        "    squared_log_errors = [(log(y_true[i] + 1) - log(y_pred[i] + 1)) ** 2 for i in range(n)]\n",
        "    return np.sqrt(np.mean(squared_log_errors))"
      ],
      "metadata": {
        "id": "G8jfVn8FpAE4"
      },
      "id": "G8jfVn8FpAE4",
      "execution_count": null,
      "outputs": []
    },
    {
      "cell_type": "code",
      "source": [
        "rmsle_1 = rmsle(df.trip_duration, df.prediction_1)\n",
        "rmsle_2 = rmsle(df.trip_duration, df.prediction_2)"
      ],
      "metadata": {
        "colab": {
          "base_uri": "https://localhost:8080/"
        },
        "id": "3bIHu5wYpLkL",
        "outputId": "4653df78-02ea-4ef5-a62a-a75a37420104"
      },
      "id": "3bIHu5wYpLkL",
      "execution_count": null,
      "outputs": [
        {
          "output_type": "stream",
          "name": "stderr",
          "text": [
            "/tmp/ipython-input-3466844270.py:6: FutureWarning: Series.__getitem__ treating keys as positions is deprecated. In a future version, integer keys will always be treated as labels (consistent with DataFrame behavior). To access a value by position, use `ser.iloc[pos]`\n",
            "  squared_log_errors = [(log(y_true[i] + 1) - log(y_pred[i] + 1)) ** 2 for i in range(n)]\n"
          ]
        }
      ]
    },
    {
      "cell_type": "code",
      "execution_count": null,
      "metadata": {
        "id": "A_IA-u2d9sjX",
        "colab": {
          "base_uri": "https://localhost:8080/"
        },
        "outputId": "9697df21-20cd-4a63-9328-028c57347787"
      },
      "outputs": [
        {
          "output_type": "stream",
          "name": "stdout",
          "text": [
            "RMSLE первой модели равно: 0.5537581774590482\n",
            "RMSLE второй модели равно: 1.5564340528341787\n"
          ]
        }
      ],
      "source": [
        "###Распечатайте значения для обеих моделей. Используйте эти значения для ответа на задание шага 9.\n",
        "print(f\"RMSLE первой модели равно: {rmsle_1}\")\n",
        "print(f\"RMSLE второй модели равно: {rmsle_2}\")"
      ],
      "id": "A_IA-u2d9sjX"
    },
    {
      "cell_type": "markdown",
      "metadata": {
        "id": "AlimEbB_9sjX"
      },
      "source": [
        "Посчитайте, для какого количества объектов первая модель сделала перепредсказания и недопредсказания\n",
        "\n",
        "Аналогичный расчет проведите для первой модели и недопредсказания.\n",
        "\n",
        "P.S. оставьте колонку с предсказанием такой, какой она оказалась после замены отрицательных значений\n",
        "\n",
        "Счетчики перепредсказаний и недопредсказаний назовите *over_predicted_1* и *under_predicted_1*"
      ],
      "id": "AlimEbB_9sjX"
    },
    {
      "cell_type": "code",
      "execution_count": 52,
      "metadata": {
        "id": "3JJUHCQU9sjY"
      },
      "outputs": [],
      "source": [
        "over_predicted_1 = len((df[(df.prediction_1 - df.trip_duration) > 0]))\n",
        "under_predicted_1 = len((df[(df.prediction_1 - df.trip_duration) < 0]))"
      ],
      "id": "3JJUHCQU9sjY"
    },
    {
      "cell_type": "code",
      "execution_count": 53,
      "metadata": {
        "id": "2MwyPvvM9sjY",
        "colab": {
          "base_uri": "https://localhost:8080/"
        },
        "outputId": "8e8cc320-b7a8-49e9-df3f-b45936c40e82"
      },
      "outputs": [
        {
          "output_type": "stream",
          "name": "stdout",
          "text": [
            "Предсказания первой модели оказались больше действительных в 1456721 случаях\n",
            "Предсказания первой модели оказались меньше действительных в 1923 случаях\n"
          ]
        }
      ],
      "source": [
        "###Распечатайте значения для обеих моделей. Используйте эти значения для ответа на задание шага 10.\n",
        "print(f\"Предсказания первой модели оказались больше действительных в {over_predicted_1} случаях\")\n",
        "print(f\"Предсказания первой модели оказались меньше действительных в {under_predicted_1} случаях\")"
      ],
      "id": "2MwyPvvM9sjY"
    },
    {
      "cell_type": "markdown",
      "metadata": {
        "id": "YQ6Cds9a9sjY"
      },
      "source": [
        "Аналогично для второй модели\n",
        "\n",
        "\n",
        "Счетчики перепредсказаний и недопредсказаний назовите *over_predicted_2* и *under_predicted_2*"
      ],
      "id": "YQ6Cds9a9sjY"
    },
    {
      "cell_type": "code",
      "execution_count": 54,
      "metadata": {
        "id": "xphLYA3C9sjY"
      },
      "outputs": [],
      "source": [
        "over_predicted_2 = len((df[(df.prediction_2 - df.trip_duration) > 0]))\n",
        "under_predicted_2 = len((df[(df.prediction_2 - df.trip_duration) < 0]))"
      ],
      "id": "xphLYA3C9sjY"
    },
    {
      "cell_type": "code",
      "execution_count": 55,
      "metadata": {
        "id": "x8ee6qxn9sjZ",
        "colab": {
          "base_uri": "https://localhost:8080/"
        },
        "outputId": "ec6a2b56-9f2c-4d78-f6a5-ef18b7ff8d14"
      },
      "outputs": [
        {
          "output_type": "stream",
          "name": "stdout",
          "text": [
            "Предсказания второй модели оказались больше действительных в 811778 случаях\n",
            "Предсказания второй модели оказались меньше действительных в 646866 случаях\n"
          ]
        }
      ],
      "source": [
        "###Распечатайте значения для обеих моделей. Используйте эти значения для ответа на задание шага 11.\n",
        "print(f\"Предсказания второй модели оказались больше действительных в {over_predicted_2} случаях\")\n",
        "print(f\"Предсказания второй модели оказались меньше действительных в {under_predicted_2} случаях\")"
      ],
      "id": "x8ee6qxn9sjZ"
    },
    {
      "cell_type": "markdown",
      "metadata": {
        "id": "QfTRmevE9sjZ"
      },
      "source": [
        "Сравните две модели заново. Согласуется ли полученный результат с подсчетом **RMSLE** ранее?"
      ],
      "id": "QfTRmevE9sjZ"
    },
    {
      "cell_type": "markdown",
      "source": [
        "RMSLE скорее выберет модель, которая перепредсказывает таргет, чем недопредсказывает."
      ],
      "metadata": {
        "id": "hz-DhsrLNRpk"
      },
      "id": "hz-DhsrLNRpk"
    }
  ],
  "metadata": {
    "colab": {
      "provenance": []
    },
    "kernelspec": {
      "display_name": "Python 3",
      "language": "python",
      "name": "python3"
    },
    "language_info": {
      "codemirror_mode": {
        "name": "ipython",
        "version": 3
      },
      "file_extension": ".py",
      "mimetype": "text/x-python",
      "name": "python",
      "nbconvert_exporter": "python",
      "pygments_lexer": "ipython3",
      "version": "3.7.3"
    }
  },
  "nbformat": 4,
  "nbformat_minor": 5
}