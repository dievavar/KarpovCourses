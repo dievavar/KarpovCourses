{
 "cells": [
  {
   "cell_type": "markdown",
   "id": "a096ce77",
   "metadata": {},
   "source": [
    "### В данной домашней работе Вам предстоит отработать следующие 2 навыка: работа с пропущенными значениями и анализ выбросов."
   ]
  },
  {
   "cell_type": "code",
   "execution_count": 80,
   "id": "e89c36e3",
   "metadata": {},
   "outputs": [],
   "source": [
    "import numpy as np\n",
    "import pandas as pd\n",
    "\n",
    "data = pd.read_csv('processed_data_with_new_features.csv', index_col='id')"
   ]
  },
  {
   "cell_type": "code",
   "execution_count": 81,
   "id": "6971cd20",
   "metadata": {},
   "outputs": [
    {
     "data": {
      "text/html": [
       "<div>\n",
       "<style scoped>\n",
       "    .dataframe tbody tr th:only-of-type {\n",
       "        vertical-align: middle;\n",
       "    }\n",
       "\n",
       "    .dataframe tbody tr th {\n",
       "        vertical-align: top;\n",
       "    }\n",
       "\n",
       "    .dataframe thead th {\n",
       "        text-align: right;\n",
       "    }\n",
       "</style>\n",
       "<table border=\"1\" class=\"dataframe\">\n",
       "  <thead>\n",
       "    <tr style=\"text-align: right;\">\n",
       "      <th></th>\n",
       "      <th>vendor_id</th>\n",
       "      <th>passenger_count</th>\n",
       "      <th>store_and_fwd_flag</th>\n",
       "      <th>distance_km</th>\n",
       "      <th>log_trip_duration</th>\n",
       "      <th>anomaly</th>\n",
       "      <th>traffic_jam</th>\n",
       "      <th>day_of_week_1</th>\n",
       "      <th>day_of_week_2</th>\n",
       "      <th>day_of_week_3</th>\n",
       "      <th>...</th>\n",
       "      <th>hour_19</th>\n",
       "      <th>hour_20</th>\n",
       "      <th>hour_21</th>\n",
       "      <th>hour_22</th>\n",
       "      <th>hour_23</th>\n",
       "      <th>month_2</th>\n",
       "      <th>month_3</th>\n",
       "      <th>month_4</th>\n",
       "      <th>month_5</th>\n",
       "      <th>month_6</th>\n",
       "    </tr>\n",
       "    <tr>\n",
       "      <th>id</th>\n",
       "      <th></th>\n",
       "      <th></th>\n",
       "      <th></th>\n",
       "      <th></th>\n",
       "      <th></th>\n",
       "      <th></th>\n",
       "      <th></th>\n",
       "      <th></th>\n",
       "      <th></th>\n",
       "      <th></th>\n",
       "      <th></th>\n",
       "      <th></th>\n",
       "      <th></th>\n",
       "      <th></th>\n",
       "      <th></th>\n",
       "      <th></th>\n",
       "      <th></th>\n",
       "      <th></th>\n",
       "      <th></th>\n",
       "      <th></th>\n",
       "      <th></th>\n",
       "    </tr>\n",
       "  </thead>\n",
       "  <tbody>\n",
       "    <tr>\n",
       "      <th>id2875421</th>\n",
       "      <td>1</td>\n",
       "      <td>930.399753</td>\n",
       "      <td>0</td>\n",
       "      <td>1.500479</td>\n",
       "      <td>6.122493</td>\n",
       "      <td>0</td>\n",
       "      <td>0</td>\n",
       "      <td>0</td>\n",
       "      <td>0</td>\n",
       "      <td>0</td>\n",
       "      <td>...</td>\n",
       "      <td>0</td>\n",
       "      <td>0</td>\n",
       "      <td>0</td>\n",
       "      <td>0</td>\n",
       "      <td>0</td>\n",
       "      <td>0</td>\n",
       "      <td>1</td>\n",
       "      <td>0</td>\n",
       "      <td>0</td>\n",
       "      <td>0</td>\n",
       "    </tr>\n",
       "    <tr>\n",
       "      <th>id2377394</th>\n",
       "      <td>0</td>\n",
       "      <td>930.399753</td>\n",
       "      <td>0</td>\n",
       "      <td>1.807119</td>\n",
       "      <td>6.498282</td>\n",
       "      <td>0</td>\n",
       "      <td>0</td>\n",
       "      <td>0</td>\n",
       "      <td>0</td>\n",
       "      <td>0</td>\n",
       "      <td>...</td>\n",
       "      <td>0</td>\n",
       "      <td>0</td>\n",
       "      <td>0</td>\n",
       "      <td>0</td>\n",
       "      <td>0</td>\n",
       "      <td>0</td>\n",
       "      <td>0</td>\n",
       "      <td>0</td>\n",
       "      <td>0</td>\n",
       "      <td>1</td>\n",
       "    </tr>\n",
       "    <tr>\n",
       "      <th>id3858529</th>\n",
       "      <td>1</td>\n",
       "      <td>NaN</td>\n",
       "      <td>0</td>\n",
       "      <td>6.392080</td>\n",
       "      <td>7.661527</td>\n",
       "      <td>0</td>\n",
       "      <td>1</td>\n",
       "      <td>1</td>\n",
       "      <td>0</td>\n",
       "      <td>0</td>\n",
       "      <td>...</td>\n",
       "      <td>0</td>\n",
       "      <td>0</td>\n",
       "      <td>0</td>\n",
       "      <td>0</td>\n",
       "      <td>0</td>\n",
       "      <td>0</td>\n",
       "      <td>0</td>\n",
       "      <td>0</td>\n",
       "      <td>0</td>\n",
       "      <td>0</td>\n",
       "    </tr>\n",
       "    <tr>\n",
       "      <th>id3504673</th>\n",
       "      <td>1</td>\n",
       "      <td>NaN</td>\n",
       "      <td>0</td>\n",
       "      <td>1.487155</td>\n",
       "      <td>6.063785</td>\n",
       "      <td>0</td>\n",
       "      <td>0</td>\n",
       "      <td>0</td>\n",
       "      <td>1</td>\n",
       "      <td>0</td>\n",
       "      <td>...</td>\n",
       "      <td>1</td>\n",
       "      <td>0</td>\n",
       "      <td>0</td>\n",
       "      <td>0</td>\n",
       "      <td>0</td>\n",
       "      <td>0</td>\n",
       "      <td>0</td>\n",
       "      <td>1</td>\n",
       "      <td>0</td>\n",
       "      <td>0</td>\n",
       "    </tr>\n",
       "    <tr>\n",
       "      <th>id2181028</th>\n",
       "      <td>1</td>\n",
       "      <td>930.399753</td>\n",
       "      <td>0</td>\n",
       "      <td>1.189925</td>\n",
       "      <td>6.077642</td>\n",
       "      <td>0</td>\n",
       "      <td>0</td>\n",
       "      <td>0</td>\n",
       "      <td>0</td>\n",
       "      <td>0</td>\n",
       "      <td>...</td>\n",
       "      <td>0</td>\n",
       "      <td>0</td>\n",
       "      <td>0</td>\n",
       "      <td>0</td>\n",
       "      <td>0</td>\n",
       "      <td>0</td>\n",
       "      <td>1</td>\n",
       "      <td>0</td>\n",
       "      <td>0</td>\n",
       "      <td>0</td>\n",
       "    </tr>\n",
       "  </tbody>\n",
       "</table>\n",
       "<p>5 rows × 41 columns</p>\n",
       "</div>"
      ],
      "text/plain": [
       "           vendor_id  passenger_count  store_and_fwd_flag  distance_km  \\\n",
       "id                                                                       \n",
       "id2875421          1       930.399753                   0     1.500479   \n",
       "id2377394          0       930.399753                   0     1.807119   \n",
       "id3858529          1              NaN                   0     6.392080   \n",
       "id3504673          1              NaN                   0     1.487155   \n",
       "id2181028          1       930.399753                   0     1.189925   \n",
       "\n",
       "           log_trip_duration  anomaly  traffic_jam  day_of_week_1  \\\n",
       "id                                                                  \n",
       "id2875421           6.122493        0            0              0   \n",
       "id2377394           6.498282        0            0              0   \n",
       "id3858529           7.661527        0            1              1   \n",
       "id3504673           6.063785        0            0              0   \n",
       "id2181028           6.077642        0            0              0   \n",
       "\n",
       "           day_of_week_2  day_of_week_3  ...  hour_19  hour_20  hour_21  \\\n",
       "id                                       ...                              \n",
       "id2875421              0              0  ...        0        0        0   \n",
       "id2377394              0              0  ...        0        0        0   \n",
       "id3858529              0              0  ...        0        0        0   \n",
       "id3504673              1              0  ...        1        0        0   \n",
       "id2181028              0              0  ...        0        0        0   \n",
       "\n",
       "           hour_22  hour_23  month_2  month_3  month_4  month_5  month_6  \n",
       "id                                                                        \n",
       "id2875421        0        0        0        1        0        0        0  \n",
       "id2377394        0        0        0        0        0        0        1  \n",
       "id3858529        0        0        0        0        0        0        0  \n",
       "id3504673        0        0        0        0        1        0        0  \n",
       "id2181028        0        0        0        1        0        0        0  \n",
       "\n",
       "[5 rows x 41 columns]"
      ]
     },
     "execution_count": 81,
     "metadata": {},
     "output_type": "execute_result"
    }
   ],
   "source": [
    "data.head()"
   ]
  },
  {
   "cell_type": "markdown",
   "id": "c2c6649a",
   "metadata": {},
   "source": [
    "Никудышный гном случайно пролил кофе на папку с данными и кодом. К несчастью, из-за этого они с братьями потеряли кучу информации в столбиках **passenger_count** и **distance_km**."
   ]
  },
  {
   "cell_type": "code",
   "execution_count": 82,
   "id": "4287d5d2",
   "metadata": {},
   "outputs": [
    {
     "data": {
      "text/plain": [
       "vendor_id                  0\n",
       "passenger_count       145864\n",
       "store_and_fwd_flag         0\n",
       "distance_km           145864\n",
       "log_trip_duration          0\n",
       "anomaly                    0\n",
       "traffic_jam                0\n",
       "day_of_week_1              0\n",
       "day_of_week_2              0\n",
       "day_of_week_3              0\n",
       "day_of_week_4              0\n",
       "day_of_week_5              0\n",
       "day_of_week_6              0\n",
       "hour_1                     0\n",
       "hour_2                     0\n",
       "hour_3                     0\n",
       "hour_4                     0\n",
       "hour_5                     0\n",
       "hour_6                     0\n",
       "hour_7                     0\n",
       "hour_8                     0\n",
       "hour_9                     0\n",
       "hour_10                    0\n",
       "hour_11                    0\n",
       "hour_12                    0\n",
       "hour_13                    0\n",
       "hour_14                    0\n",
       "hour_15                    0\n",
       "hour_16                    0\n",
       "hour_17                    0\n",
       "hour_18                    0\n",
       "hour_19                    0\n",
       "hour_20                    0\n",
       "hour_21                    0\n",
       "hour_22                    0\n",
       "hour_23                    0\n",
       "month_2                    0\n",
       "month_3                    0\n",
       "month_4                    0\n",
       "month_5                    0\n",
       "month_6                    0\n",
       "dtype: int64"
      ]
     },
     "execution_count": 82,
     "metadata": {},
     "output_type": "execute_result"
    }
   ],
   "source": [
    "### Выведите количество пропусков в данных колонках\n",
    "### На всякий случай, проверьте целостность данных в остальных\n",
    "\n",
    "### Your code is here\n",
    "data.isna().sum()"
   ]
  },
  {
   "cell_type": "code",
   "execution_count": 83,
   "id": "4ce898c2-2b92-473b-ad5d-1105a2bd5c68",
   "metadata": {},
   "outputs": [
    {
     "data": {
      "text/plain": [
       "145864"
      ]
     },
     "execution_count": 83,
     "metadata": {},
     "output_type": "execute_result"
    }
   ],
   "source": [
    "data.passenger_count.isna().sum()"
   ]
  },
  {
   "cell_type": "code",
   "execution_count": 84,
   "id": "a813b913-5d4c-4051-956e-8f8b33dbbe28",
   "metadata": {},
   "outputs": [
    {
     "data": {
      "text/plain": [
       "145864"
      ]
     },
     "execution_count": 84,
     "metadata": {},
     "output_type": "execute_result"
    }
   ],
   "source": [
    "data.distance_km.isna().sum()"
   ]
  },
  {
   "cell_type": "markdown",
   "id": "6be1fcea",
   "metadata": {},
   "source": [
    "Начнем с **passenger_count**. Вообще говоря, изначально это была категориальная колонка, к которой мы применили технику OneHotEncoder. Чтобы избавиться от пропусков в данных, конечно, можно просто убрать все объекты, в которых есть пропуски, но тогда мы потеряем ценную информацию. \n",
    "\n",
    "Воспользуйтесь относительно простым приемом из лекции: в указанной колонке заполните пропуски самым *популярным* значением среди неотсутствующих."
   ]
  },
  {
   "cell_type": "code",
   "execution_count": 85,
   "id": "26370f2a-3fc7-4562-a77b-fc5d0259b4e8",
   "metadata": {},
   "outputs": [
    {
     "data": {
      "text/plain": [
       "930.3997532751514"
      ]
     },
     "execution_count": 85,
     "metadata": {},
     "output_type": "execute_result"
    }
   ],
   "source": [
    "popular_category = data['passenger_count'].value_counts().index[0]\n",
    "popular_category"
   ]
  },
  {
   "cell_type": "code",
   "execution_count": 86,
   "id": "56c0f7d7-cfdc-4ec3-aaf6-2e36114b8cae",
   "metadata": {},
   "outputs": [],
   "source": [
    "data['passenger_count'] = data['passenger_count'].fillna(popular_category)"
   ]
  },
  {
   "cell_type": "markdown",
   "id": "89335759",
   "metadata": {},
   "source": [
    "С колонкой **distance_km** поступим более интересным способом!\n",
    "\n",
    "Чтобы заполнить пропуск в данной колонке для того или иного объекта, можно находить наиболее похожий на него объект и подглядывать в его значение **distance_km**. Для того, чтобы понять, насколько объекты похожи друг на друга, необходимо использовать Евклидово расстояние между этими самыми объектами в пространстве всех признаков!\n",
    "\n",
    "С учетом количества объектов в нашем датасете и признаков, посчитать попарные расстояния будет мега-сложно. Поэтому давайте называть объекты похожими, если они принадлежат одной категории, составленной из следующих колонок:\n",
    "\n",
    "1. vendor_id\n",
    "2. store_and_fwd_flag\n",
    "3. traffic_jam\n",
    "4. month_2\n",
    "5. month_3\n",
    "6. month_4\n",
    "7. month_5\n",
    "8. month_6\n",
    "\n",
    "Внутри каждой группы найдите среднее значение признака **distance_km** и заполните NaN'ы в объектах с пропуском в соответствии с тем, к какой категории относится данный объект. Похожее упражнение мы делали на практике в занятии!\n",
    "\n",
    "**Hint**: достаточно просто взять group by по указанным выше категориальным колонкам и верно вставить полученный результат в исходную табличку.\n",
    "\n",
    "P.S. Колонки выбраны случайным образом. Можно было взять и другую комбинацию."
   ]
  },
  {
   "cell_type": "code",
   "execution_count": 87,
   "id": "0649d78d",
   "metadata": {},
   "outputs": [
    {
     "data": {
      "text/plain": [
       "id\n",
       "id2875421    3.466395\n",
       "id2377394    3.463570\n",
       "id3858529    3.183494\n",
       "id3504673    3.468311\n",
       "id2181028    3.466395\n",
       "               ...   \n",
       "id2376096    3.468311\n",
       "id1049543    3.323767\n",
       "id2304944    3.468311\n",
       "id2714485    3.323767\n",
       "id1209952    3.389926\n",
       "Name: distance_km, Length: 1458644, dtype: float64"
      ]
     },
     "execution_count": 87,
     "metadata": {},
     "output_type": "execute_result"
    }
   ],
   "source": [
    "### Your code is \n",
    "grouped_means = data.groupby(['vendor_id', 'store_and_fwd_flag', 'traffic_jam', 'month_2', 'month_3', 'month_4', 'month_5', 'month_6'])['distance_km'].transform('mean')\n",
    "grouped_means"
   ]
  },
  {
   "cell_type": "code",
   "execution_count": 88,
   "id": "dc6e6ac4-f317-4958-aefa-43c85e9572a7",
   "metadata": {},
   "outputs": [],
   "source": [
    "data['distance_km'] = data['distance_km'].fillna(grouped_means)"
   ]
  },
  {
   "cell_type": "code",
   "execution_count": 89,
   "id": "88418523",
   "metadata": {},
   "outputs": [
    {
     "data": {
      "text/plain": [
       "0"
      ]
     },
     "execution_count": 89,
     "metadata": {},
     "output_type": "execute_result"
    }
   ],
   "source": [
    "### Убедимся, что пропусков не осталось\n",
    "\n",
    "### Your code is here\n",
    "data['distance_km'].isna().sum()"
   ]
  },
  {
   "cell_type": "code",
   "execution_count": 90,
   "id": "fab28531-61c9-47f5-a6d9-fbbe802ab1be",
   "metadata": {},
   "outputs": [],
   "source": [
    "data.head(20).to_csv('result.csv', sep=';', index=False)"
   ]
  },
  {
   "cell_type": "markdown",
   "id": "62e4f110",
   "metadata": {},
   "source": [
    "### Теперь наши данные чисты! Замерьте качество модели на Кросс-Валидации"
   ]
  },
  {
   "cell_type": "code",
   "execution_count": 91,
   "id": "6b8483aa",
   "metadata": {},
   "outputs": [
    {
     "name": "stdout",
     "output_type": "stream",
     "text": [
      "MSLE на Кросс-валидации: 0.431\n"
     ]
    }
   ],
   "source": [
    "from sklearn.model_selection import KFold\n",
    "\n",
    "selector = KFold(n_splits=4, shuffle=True, random_state=33)\n",
    "\n",
    "from sklearn.model_selection import cross_validate\n",
    "from sklearn.linear_model import LinearRegression\n",
    "\n",
    "### Your code is here\n",
    "X = data.drop(['log_trip_duration'], axis = 1)\n",
    "y = data.log_trip_duration\n",
    "cross_val_error = []\n",
    "\n",
    "for train_index, test_index in selector.split(X):\n",
    "    X_train, X_test = X.values[train_index], X.values[test_index]\n",
    "    Y_train, Y_test = y.values[train_index], y.values[test_index]\n",
    "    \n",
    "    model = LinearRegression()\n",
    "    model.fit(X_train, Y_train)\n",
    "    \n",
    "    cross_val_error.append(np.mean((model.predict(X_test)-Y_test)**2))\n",
    "\n",
    "print(f\"MSLE на Кросс-валидации: {np.round(cross_val_error, 3).mean()}\")"
   ]
  },
  {
   "cell_type": "markdown",
   "id": "d55421ea",
   "metadata": {},
   "source": [
    "### Проведем анализ выбросов! Нарисуйте ящик с усами и гистограмму для таргетной переменной."
   ]
  },
  {
   "cell_type": "code",
   "execution_count": 92,
   "id": "5e0ab139",
   "metadata": {},
   "outputs": [
    {
     "data": {
      "image/png": "[encoded data removed]",
      "text/plain": [
       "<Figure size 1500x500 with 2 Axes>"
      ]
     },
     "metadata": {},
     "output_type": "display_data"
    }
   ],
   "source": [
    "import matplotlib.pyplot as plt\n",
    "\n",
    "### Your code is here\n",
    "fig = plt.figure()\n",
    "\n",
    "fig.set_size_inches(15, 5)\n",
    "\n",
    "ax_1 = fig.add_subplot(1, 2, 1)\n",
    "plt.boxplot(data.log_trip_duration)\n",
    "\n",
    "ax_2 = fig.add_subplot(1, 2, 2)\n",
    "plt.hist(data.log_trip_duration)\n",
    "\n",
    "fig.tight_layout()\n",
    "\n",
    "ax_1.set(title = 'Ящик с усами для таргетной переменной')\n",
    "ax_2.set(title = 'Гистограмма для таргетной переменной')\n",
    "\n",
    "plt.show()"
   ]
  },
  {
   "cell_type": "markdown",
   "id": "5fa7ff98",
   "metadata": {},
   "source": [
    "Есть ли, на ваш взгляд, в данных выбросы?\n",
    "\n",
    "Кажется, что да!\n",
    "\n",
    "Давайте почистим их, удалив те объекты, таргеты которых находятся вне промежутка\n",
    "\n",
    "(топ 99,5% значение;   топ 0,5% значение)"
   ]
  },
  {
   "cell_type": "code",
   "execution_count": 96,
   "id": "61c3fe7b",
   "metadata": {},
   "outputs": [
    {
     "data": {
      "image/png": "[encoded data removed]",
      "text/plain": [
       "<Figure size 640x480 with 1 Axes>"
      ]
     },
     "metadata": {},
     "output_type": "display_data"
    }
   ],
   "source": [
    "### Your code is here\n",
    "lower_bound = np.percentile(data.log_trip_duration, 0.5)\n",
    "upper_bound = np.percentile(data.log_trip_duration, 99.5)\n",
    "\n",
    "data_cleaned = data[(data.log_trip_duration > lower_bound) & \n",
    "                    (data.log_trip_duration < upper_bound)]\n",
    "\n",
    "plt.hist(data_cleaned.log_trip_duration)\n",
    "plt.show()"
   ]
  },
  {
   "cell_type": "markdown",
   "id": "83e11100",
   "metadata": {},
   "source": [
    "Снова замерьте качество на кросс-валидации, используя старый selector"
   ]
  },
  {
   "cell_type": "code",
   "execution_count": 97,
   "id": "dec99643",
   "metadata": {},
   "outputs": [
    {
     "name": "stdout",
     "output_type": "stream",
     "text": [
      "MSLE на Кросс-валидации: 0.35\n"
     ]
    }
   ],
   "source": [
    "### Your code is here\n",
    "X_2 = data_cleaned.drop(['log_trip_duration'], axis = 1)\n",
    "y_2 = data_cleaned.log_trip_duration\n",
    "\n",
    "cross_val_error_2 = []\n",
    "\n",
    "for train_index, test_index in selector.split(X_2):\n",
    "    X_train, X_test = X_2.values[train_index], X_2.values[test_index]\n",
    "    Y_train, Y_test = y_2.values[train_index], y_2.values[test_index]\n",
    "    \n",
    "    model = LinearRegression()\n",
    "    model.fit(X_train, Y_train)\n",
    "    \n",
    "    cross_val_error_2.append(np.mean((model.predict(X_test)-Y_test)**2))\n",
    "\n",
    "print(f\"MSLE на Кросс-валидации: {np.round(np.mean(cross_val_error_2), 3)}\")"
   ]
  },
  {
   "cell_type": "code",
   "execution_count": null,
   "id": "1089fa23-cf5b-4a28-9d41-2fa9e95703ef",
   "metadata": {},
   "outputs": [],
   "source": []
  }
 ],
 "metadata": {
  "kernelspec": {
   "display_name": "Python 3 (ipykernel)",
   "language": "python",
   "name": "python3"
  },
  "language_info": {
   "codemirror_mode": {
    "name": "ipython",
    "version": 3
   },
   "file_extension": ".py",
   "mimetype": "text/x-python",
   "name": "python",
   "nbconvert_exporter": "python",
   "pygments_lexer": "ipython3",
   "version": "3.11.7"
  }
 },
 "nbformat": 4,
 "nbformat_minor": 5
}
